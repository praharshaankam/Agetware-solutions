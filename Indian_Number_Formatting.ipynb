{
  "cells": [
    {
      "cell_type": "markdown",
      "metadata": {
        "id": "view-in-github",
        "colab_type": "text"
      },
      "source": [
        "<a href=\"https://colab.research.google.com/github/praharshaankam/Agetware-solutions/blob/problems.md/Indian_Number_Formatting.ipynb\" target=\"_parent\"><img src=\"https://colab.research.google.com/assets/colab-badge.svg\" alt=\"Open In Colab\"/></a>"
      ]
    },
    {
      "cell_type": "code",
      "source": [
        "# --- Indian Number Formatting ---\n",
        "\n",
        "num = input(\"Enter a floating point number: \")\n",
        "if '.' in num:\n",
        "    int_part, frac_part = num.split('.')\n",
        "    frac_part = '.' + frac_part\n",
        "else:\n",
        "    int_part = num\n",
        "    frac_part = ''\n",
        "rev = int_part[::-1]\n",
        "indian_format = ''\n",
        "indian_format += rev[:3]\n",
        "for i in range(3, len(rev), 2):\n",
        "    indian_format += ',' + rev[i:i+2]\n",
        "formatted = indian_format[::-1] + frac_part\n",
        "print(\"Indian formatted number:\", formatted)\n"
      ],
      "outputs": [
        {
          "output_type": "stream",
          "name": "stdout",
          "text": [
            "Enter a floating point number: 12345.987\n",
            "Indian formatted number: 12,345.987\n"
          ]
        }
      ],
      "execution_count": null,
      "metadata": {
        "colab": {
          "base_uri": "https://localhost:8080/"
        },
        "id": "cMI3zI1Z3rtb",
        "outputId": "ec36149b-17e7-4406-b148-10d200d43304"
      }
    },
    {
      "cell_type": "code",
      "source": [],
      "metadata": {
        "id": "DPdq2Dzc641C"
      },
      "execution_count": null,
      "outputs": []
    }
  ],
  "metadata": {
    "colab": {
      "provenance": [],
      "include_colab_link": true
    },
    "kernelspec": {
      "display_name": "Python 3",
      "name": "python3"
    }
  },
  "nbformat": 4,
  "nbformat_minor": 0
}